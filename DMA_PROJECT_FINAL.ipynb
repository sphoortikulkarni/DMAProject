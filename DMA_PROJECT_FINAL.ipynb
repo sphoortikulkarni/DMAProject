{
 "cells": [
  {
   "cell_type": "markdown",
   "metadata": {},
   "source": [
    "# Topic: 'What Do You Know'\n",
    "# problem statement:Improve the state of art in the student evaluation by predicting whether a student will answer the next test question correctly .\n",
    "# Team Members: \n",
    "#             Shreyas Joshi              301       \n",
    "#           Sphoorti Kulkarni          310\n",
    "#            Sumaiya Garag              317\n",
    "#            Sunidhi P Naik             318\n",
    "\n"
   ]
  },
  {
   "cell_type": "markdown",
   "metadata": {},
   "source": [
    "\n",
    "# First all the libraries provided by ananconda which will be useful for the work are imported . \n",
    "# As the work progresses further , the needed libraries are imported accordingly ."
   ]
  },
  {
   "cell_type": "code",
   "execution_count": 1,
   "metadata": {},
   "outputs": [
    {
     "name": "stdout",
     "output_type": "stream",
     "text": [
      "Populating the interactive namespace from numpy and matplotlib\n"
     ]
    }
   ],
   "source": [
    "import numpy as np\n",
    "import pandas as pd\n",
    "\n",
    "%pylab inline\n"
   ]
  },
  {
   "cell_type": "code",
   "execution_count": null,
   "metadata": {
    "collapsed": true
   },
   "outputs": [],
   "source": [
    "#After importing the libraries , the first thing to do is to is to read the needed file(s) for the prediction ,\n",
    "#into variable(s)\n",
    "#For our predcition , we need two files train data (valid_training.csv) and test data (valid_test.csv) . "
   ]
  },
  {
   "cell_type": "code",
   "execution_count": 3,
   "metadata": {},
   "outputs": [],
   "source": [
    "#load train data\n",
    "train_users = pd.read_csv('valid_training.csv',nrows=1000000, dtype={'correct':np.uint8,'user_id':np.uint16,'answer_id':np.uint16,\n",
    "                    'track_name':np.uint32,'outcome':np.uint8})"
   ]
  },
  {
   "cell_type": "code",
   "execution_count": 4,
   "metadata": {},
   "outputs": [
    {
     "data": {
      "text/html": [
       "<div>\n",
       "<style>\n",
       "    .dataframe thead tr:only-child th {\n",
       "        text-align: right;\n",
       "    }\n",
       "\n",
       "    .dataframe thead th {\n",
       "        text-align: left;\n",
       "    }\n",
       "\n",
       "    .dataframe tbody tr th {\n",
       "        vertical-align: top;\n",
       "    }\n",
       "</style>\n",
       "<table border=\"1\" class=\"dataframe\">\n",
       "  <thead>\n",
       "    <tr style=\"text-align: right;\">\n",
       "      <th></th>\n",
       "      <th>correct</th>\n",
       "      <th>outcome</th>\n",
       "      <th>user_id</th>\n",
       "      <th>question_id</th>\n",
       "      <th>question_type</th>\n",
       "      <th>group_name</th>\n",
       "      <th>track_name</th>\n",
       "      <th>subtrack_name</th>\n",
       "      <th>tag_string</th>\n",
       "      <th>round_started_at</th>\n",
       "      <th>answered_at</th>\n",
       "      <th>deactivated_at</th>\n",
       "      <th>answer_id</th>\n",
       "      <th>game_type</th>\n",
       "      <th>num_players</th>\n",
       "      <th>date_of_test</th>\n",
       "      <th>question_set_id</th>\n",
       "    </tr>\n",
       "  </thead>\n",
       "  <tbody>\n",
       "    <tr>\n",
       "      <th>0</th>\n",
       "      <td>0</td>\n",
       "      <td>2</td>\n",
       "      <td>20282</td>\n",
       "      <td>5560</td>\n",
       "      <td>0</td>\n",
       "      <td>1</td>\n",
       "      <td>5</td>\n",
       "      <td>14</td>\n",
       "      <td>222 233 240 246</td>\n",
       "      <td>2010-08-18 20:17:13</td>\n",
       "      <td>2010-08-18 20:18:18</td>\n",
       "      <td>2010-08-18 20:18:18</td>\n",
       "      <td>6540</td>\n",
       "      <td>7</td>\n",
       "      <td>1</td>\n",
       "      <td>NaN</td>\n",
       "      <td>1567</td>\n",
       "    </tr>\n",
       "    <tr>\n",
       "      <th>1</th>\n",
       "      <td>1</td>\n",
       "      <td>1</td>\n",
       "      <td>20282</td>\n",
       "      <td>4681</td>\n",
       "      <td>0</td>\n",
       "      <td>1</td>\n",
       "      <td>5</td>\n",
       "      <td>0</td>\n",
       "      <td>24 49</td>\n",
       "      <td>2010-08-18 20:19:12</td>\n",
       "      <td>2010-08-18 20:20:34</td>\n",
       "      <td>2010-08-18 20:20:34</td>\n",
       "      <td>4742</td>\n",
       "      <td>7</td>\n",
       "      <td>1</td>\n",
       "      <td>NaN</td>\n",
       "      <td>1227</td>\n",
       "    </tr>\n",
       "    <tr>\n",
       "      <th>2</th>\n",
       "      <td>1</td>\n",
       "      <td>1</td>\n",
       "      <td>20282</td>\n",
       "      <td>1529</td>\n",
       "      <td>0</td>\n",
       "      <td>1</td>\n",
       "      <td>5</td>\n",
       "      <td>0</td>\n",
       "      <td>31 49</td>\n",
       "      <td>2010-08-18 20:20:42</td>\n",
       "      <td>2010-08-18 20:21:56</td>\n",
       "      <td>2010-08-18 20:21:56</td>\n",
       "      <td>4309</td>\n",
       "      <td>7</td>\n",
       "      <td>1</td>\n",
       "      <td>NaN</td>\n",
       "      <td>1148</td>\n",
       "    </tr>\n",
       "    <tr>\n",
       "      <th>3</th>\n",
       "      <td>1</td>\n",
       "      <td>1</td>\n",
       "      <td>20282</td>\n",
       "      <td>2908</td>\n",
       "      <td>0</td>\n",
       "      <td>1</td>\n",
       "      <td>5</td>\n",
       "      <td>0</td>\n",
       "      <td>31 49</td>\n",
       "      <td>2010-08-18 20:22:03</td>\n",
       "      <td>2010-08-18 20:23:05</td>\n",
       "      <td>2010-08-18 20:23:05</td>\n",
       "      <td>4408</td>\n",
       "      <td>7</td>\n",
       "      <td>1</td>\n",
       "      <td>NaN</td>\n",
       "      <td>1168</td>\n",
       "    </tr>\n",
       "    <tr>\n",
       "      <th>4</th>\n",
       "      <td>1</td>\n",
       "      <td>1</td>\n",
       "      <td>20282</td>\n",
       "      <td>1773</td>\n",
       "      <td>0</td>\n",
       "      <td>1</td>\n",
       "      <td>5</td>\n",
       "      <td>11</td>\n",
       "      <td>183 194 207</td>\n",
       "      <td>2010-08-18 20:23:11</td>\n",
       "      <td>2010-08-18 20:26:08</td>\n",
       "      <td>2010-08-18 20:26:08</td>\n",
       "      <td>10822</td>\n",
       "      <td>7</td>\n",
       "      <td>1</td>\n",
       "      <td>NaN</td>\n",
       "      <td>2318</td>\n",
       "    </tr>\n",
       "  </tbody>\n",
       "</table>\n",
       "</div>"
      ],
      "text/plain": [
       "   correct  outcome  user_id  question_id  question_type  group_name  \\\n",
       "0        0        2    20282         5560              0           1   \n",
       "1        1        1    20282         4681              0           1   \n",
       "2        1        1    20282         1529              0           1   \n",
       "3        1        1    20282         2908              0           1   \n",
       "4        1        1    20282         1773              0           1   \n",
       "\n",
       "   track_name  subtrack_name       tag_string     round_started_at  \\\n",
       "0           5             14  222 233 240 246  2010-08-18 20:17:13   \n",
       "1           5              0            24 49  2010-08-18 20:19:12   \n",
       "2           5              0            31 49  2010-08-18 20:20:42   \n",
       "3           5              0            31 49  2010-08-18 20:22:03   \n",
       "4           5             11      183 194 207  2010-08-18 20:23:11   \n",
       "\n",
       "           answered_at       deactivated_at  answer_id  game_type  \\\n",
       "0  2010-08-18 20:18:18  2010-08-18 20:18:18       6540          7   \n",
       "1  2010-08-18 20:20:34  2010-08-18 20:20:34       4742          7   \n",
       "2  2010-08-18 20:21:56  2010-08-18 20:21:56       4309          7   \n",
       "3  2010-08-18 20:23:05  2010-08-18 20:23:05       4408          7   \n",
       "4  2010-08-18 20:26:08  2010-08-18 20:26:08      10822          7   \n",
       "\n",
       "   num_players date_of_test  question_set_id  \n",
       "0            1          NaN             1567  \n",
       "1            1          NaN             1227  \n",
       "2            1          NaN             1148  \n",
       "3            1          NaN             1168  \n",
       "4            1          NaN             2318  "
      ]
     },
     "execution_count": 4,
     "metadata": {},
     "output_type": "execute_result"
    }
   ],
   "source": [
    "train_users.head()"
   ]
  },
  {
   "cell_type": "code",
   "execution_count": null,
   "metadata": {
    "collapsed": true
   },
   "outputs": [],
   "source": [
    "##train_users['outcome'] = train_users[train_users['outcome'] < 3]"
   ]
  },
  {
   "cell_type": "code",
   "execution_count": null,
   "metadata": {},
   "outputs": [],
   "source": [
    "train_users"
   ]
  },
  {
   "cell_type": "code",
   "execution_count": null,
   "metadata": {
    "collapsed": true
   },
   "outputs": [],
   "source": [
    "#Now that data is loaded , checking the amount of null values in each attribute is the next thing . \n",
    "#This is a part of data cleaning"
   ]
  },
  {
   "cell_type": "code",
   "execution_count": 5,
   "metadata": {},
   "outputs": [
    {
     "data": {
      "text/plain": [
       "answered_at       11.1711\n",
       "deactivated_at     0.0015\n",
       "date_of_test      80.1637\n",
       "dtype: float64"
      ]
     },
     "execution_count": 5,
     "metadata": {},
     "output_type": "execute_result"
    }
   ],
   "source": [
    "\n",
    "## How much data we are missing?                \n",
    "## Compute NaN percentage of each feature.\n",
    "users_nan = (train_users.isnull().sum() / train_users.shape[0]) * 100\n",
    "users_nan[users_nan > 0]                                                        "
   ]
  },
  {
   "cell_type": "code",
   "execution_count": null,
   "metadata": {
    "collapsed": true
   },
   "outputs": [],
   "source": [
    "# Now we have the cloumns in which null values are present and wat is the percentage of null values in them .\n",
    "# By general concepts , the attributes with null percentage of above 60% can be dropped .\n",
    "# It can be dropped because if the null percetage is big , deleteing that attribute will not make much difference\n",
    "# in the dataset . \n",
    "# Hence we are dropping date_of_test attribute ."
   ]
  },
  {
   "cell_type": "code",
   "execution_count": 6,
   "metadata": {},
   "outputs": [
    {
     "data": {
      "text/html": [
       "<div>\n",
       "<style>\n",
       "    .dataframe thead tr:only-child th {\n",
       "        text-align: right;\n",
       "    }\n",
       "\n",
       "    .dataframe thead th {\n",
       "        text-align: left;\n",
       "    }\n",
       "\n",
       "    .dataframe tbody tr th {\n",
       "        vertical-align: top;\n",
       "    }\n",
       "</style>\n",
       "<table border=\"1\" class=\"dataframe\">\n",
       "  <thead>\n",
       "    <tr style=\"text-align: right;\">\n",
       "      <th></th>\n",
       "      <th>correct</th>\n",
       "      <th>outcome</th>\n",
       "      <th>user_id</th>\n",
       "      <th>question_id</th>\n",
       "      <th>question_type</th>\n",
       "      <th>group_name</th>\n",
       "      <th>track_name</th>\n",
       "      <th>subtrack_name</th>\n",
       "      <th>tag_string</th>\n",
       "      <th>round_started_at</th>\n",
       "      <th>answered_at</th>\n",
       "      <th>deactivated_at</th>\n",
       "      <th>answer_id</th>\n",
       "      <th>game_type</th>\n",
       "      <th>num_players</th>\n",
       "      <th>question_set_id</th>\n",
       "    </tr>\n",
       "  </thead>\n",
       "  <tbody>\n",
       "    <tr>\n",
       "      <th>0</th>\n",
       "      <td>0</td>\n",
       "      <td>2</td>\n",
       "      <td>20282</td>\n",
       "      <td>5560</td>\n",
       "      <td>0</td>\n",
       "      <td>1</td>\n",
       "      <td>5</td>\n",
       "      <td>14</td>\n",
       "      <td>222 233 240 246</td>\n",
       "      <td>2010-08-18 20:17:13</td>\n",
       "      <td>2010-08-18 20:18:18</td>\n",
       "      <td>2010-08-18 20:18:18</td>\n",
       "      <td>6540</td>\n",
       "      <td>7</td>\n",
       "      <td>1</td>\n",
       "      <td>1567</td>\n",
       "    </tr>\n",
       "    <tr>\n",
       "      <th>1</th>\n",
       "      <td>1</td>\n",
       "      <td>1</td>\n",
       "      <td>20282</td>\n",
       "      <td>4681</td>\n",
       "      <td>0</td>\n",
       "      <td>1</td>\n",
       "      <td>5</td>\n",
       "      <td>0</td>\n",
       "      <td>24 49</td>\n",
       "      <td>2010-08-18 20:19:12</td>\n",
       "      <td>2010-08-18 20:20:34</td>\n",
       "      <td>2010-08-18 20:20:34</td>\n",
       "      <td>4742</td>\n",
       "      <td>7</td>\n",
       "      <td>1</td>\n",
       "      <td>1227</td>\n",
       "    </tr>\n",
       "    <tr>\n",
       "      <th>2</th>\n",
       "      <td>1</td>\n",
       "      <td>1</td>\n",
       "      <td>20282</td>\n",
       "      <td>1529</td>\n",
       "      <td>0</td>\n",
       "      <td>1</td>\n",
       "      <td>5</td>\n",
       "      <td>0</td>\n",
       "      <td>31 49</td>\n",
       "      <td>2010-08-18 20:20:42</td>\n",
       "      <td>2010-08-18 20:21:56</td>\n",
       "      <td>2010-08-18 20:21:56</td>\n",
       "      <td>4309</td>\n",
       "      <td>7</td>\n",
       "      <td>1</td>\n",
       "      <td>1148</td>\n",
       "    </tr>\n",
       "    <tr>\n",
       "      <th>3</th>\n",
       "      <td>1</td>\n",
       "      <td>1</td>\n",
       "      <td>20282</td>\n",
       "      <td>2908</td>\n",
       "      <td>0</td>\n",
       "      <td>1</td>\n",
       "      <td>5</td>\n",
       "      <td>0</td>\n",
       "      <td>31 49</td>\n",
       "      <td>2010-08-18 20:22:03</td>\n",
       "      <td>2010-08-18 20:23:05</td>\n",
       "      <td>2010-08-18 20:23:05</td>\n",
       "      <td>4408</td>\n",
       "      <td>7</td>\n",
       "      <td>1</td>\n",
       "      <td>1168</td>\n",
       "    </tr>\n",
       "    <tr>\n",
       "      <th>4</th>\n",
       "      <td>1</td>\n",
       "      <td>1</td>\n",
       "      <td>20282</td>\n",
       "      <td>1773</td>\n",
       "      <td>0</td>\n",
       "      <td>1</td>\n",
       "      <td>5</td>\n",
       "      <td>11</td>\n",
       "      <td>183 194 207</td>\n",
       "      <td>2010-08-18 20:23:11</td>\n",
       "      <td>2010-08-18 20:26:08</td>\n",
       "      <td>2010-08-18 20:26:08</td>\n",
       "      <td>10822</td>\n",
       "      <td>7</td>\n",
       "      <td>1</td>\n",
       "      <td>2318</td>\n",
       "    </tr>\n",
       "  </tbody>\n",
       "</table>\n",
       "</div>"
      ],
      "text/plain": [
       "   correct  outcome  user_id  question_id  question_type  group_name  \\\n",
       "0        0        2    20282         5560              0           1   \n",
       "1        1        1    20282         4681              0           1   \n",
       "2        1        1    20282         1529              0           1   \n",
       "3        1        1    20282         2908              0           1   \n",
       "4        1        1    20282         1773              0           1   \n",
       "\n",
       "   track_name  subtrack_name       tag_string     round_started_at  \\\n",
       "0           5             14  222 233 240 246  2010-08-18 20:17:13   \n",
       "1           5              0            24 49  2010-08-18 20:19:12   \n",
       "2           5              0            31 49  2010-08-18 20:20:42   \n",
       "3           5              0            31 49  2010-08-18 20:22:03   \n",
       "4           5             11      183 194 207  2010-08-18 20:23:11   \n",
       "\n",
       "           answered_at       deactivated_at  answer_id  game_type  \\\n",
       "0  2010-08-18 20:18:18  2010-08-18 20:18:18       6540          7   \n",
       "1  2010-08-18 20:20:34  2010-08-18 20:20:34       4742          7   \n",
       "2  2010-08-18 20:21:56  2010-08-18 20:21:56       4309          7   \n",
       "3  2010-08-18 20:23:05  2010-08-18 20:23:05       4408          7   \n",
       "4  2010-08-18 20:26:08  2010-08-18 20:26:08      10822          7   \n",
       "\n",
       "   num_players  question_set_id  \n",
       "0            1             1567  \n",
       "1            1             1227  \n",
       "2            1             1148  \n",
       "3            1             1168  \n",
       "4            1             2318  "
      ]
     },
     "execution_count": 6,
     "metadata": {},
     "output_type": "execute_result"
    }
   ],
   "source": [
    "#drop date_of_test \n",
    "train_users.drop('date_of_test',axis=1, inplace=True)\n",
    "\n",
    "train_users.head()"
   ]
  },
  {
   "cell_type": "code",
   "execution_count": null,
   "metadata": {
    "collapsed": true
   },
   "outputs": [],
   "source": [
    "#fill during post processing\n",
    "#train_users['answered_at'].fillna('0000-00-00', inplace=True)"
   ]
  },
  {
   "cell_type": "code",
   "execution_count": null,
   "metadata": {
    "collapsed": true
   },
   "outputs": [],
   "source": [
    "#train_users['deactivated_at'].fillna('0000-00-00', inplace=True)"
   ]
  },
  {
   "cell_type": "code",
   "execution_count": null,
   "metadata": {
    "collapsed": true
   },
   "outputs": [],
   "source": [
    "# Our data has the fields round_started_at , answered_at , deactivated_at . \n",
    "# All these three attributes have date and time .\n",
    "# Since we have droppeddat_of_test , we are going to split the each of the three attributes into two , where each\n",
    "# one eparated part containd the date and the other , time .\n",
    "# all the date columns generated are same . Hence there is redundent data .\n",
    "# So we will drop two of the date columns and rename the others ."
   ]
  },
  {
   "cell_type": "markdown",
   "metadata": {},
   "source": [
    "Split datetime to separate date and time attributes"
   ]
  },
  {
   "cell_type": "code",
   "execution_count": 7,
   "metadata": {},
   "outputs": [
    {
     "name": "stdout",
     "output_type": "stream",
     "text": [
      "Adding new fields...\n",
      "Adding new fields...completed\n"
     ]
    }
   ],
   "source": [
    "train_users['round_started_at'] = pd.to_datetime(train_users['round_started_at'],  errors='coerce')\n",
    "print(\"Adding new fields...\")\n",
    "train_users['round_started_at_date'] = train_users['round_started_at'].dt.date\n",
    "train_users['round_started_at_time'] = train_users['round_started_at'].dt.time\n",
    "print(\"Adding new fields...completed\")\n",
    "\n",
    "train_users.drop('round_started_at',axis=1, inplace=True)"
   ]
  },
  {
   "cell_type": "code",
   "execution_count": 8,
   "metadata": {
    "scrolled": true
   },
   "outputs": [
    {
     "name": "stdout",
     "output_type": "stream",
     "text": [
      "Adding new fields...\n",
      "Adding new fields...completed\n"
     ]
    }
   ],
   "source": [
    "train_users['answered_at'] = pd.to_datetime(train_users['answered_at'],  errors='coerce')\n",
    "print(\"Adding new fields...\")\n",
    "train_users['answered_at_date'] = train_users['answered_at'].dt.date\n",
    "train_users['answered_at_time'] = train_users['answered_at'].dt.time\n",
    "print(\"Adding new fields...completed\")\n",
    "\n",
    "train_users.drop('answered_at',axis=1, inplace=True)\n"
   ]
  },
  {
   "cell_type": "code",
   "execution_count": 9,
   "metadata": {},
   "outputs": [
    {
     "name": "stdout",
     "output_type": "stream",
     "text": [
      "Adding new fields...\n",
      "Adding new fields...completed\n"
     ]
    }
   ],
   "source": [
    "train_users['deactivated_at'] = pd.to_datetime(train_users['deactivated_at'],  errors='coerce')\n",
    "print(\"Adding new fields...\")\n",
    "train_users['deactivated_at_date'] = train_users['deactivated_at'].dt.date\n",
    "train_users['deactivated_at_time'] = train_users['deactivated_at'].dt.time\n",
    "print(\"Adding new fields...completed\")\n",
    "\n",
    "train_users.drop('deactivated_at',axis=1, inplace=True)\n"
   ]
  },
  {
   "cell_type": "code",
   "execution_count": 10,
   "metadata": {},
   "outputs": [
    {
     "data": {
      "text/plain": [
       "correct                   uint8\n",
       "outcome                   uint8\n",
       "user_id                  uint16\n",
       "question_id               int64\n",
       "question_type             int64\n",
       "group_name                int64\n",
       "track_name               uint32\n",
       "subtrack_name             int64\n",
       "tag_string               object\n",
       "answer_id                uint16\n",
       "game_type                 int64\n",
       "num_players               int64\n",
       "question_set_id           int64\n",
       "round_started_at_date    object\n",
       "round_started_at_time    object\n",
       "answered_at_date         object\n",
       "answered_at_time         object\n",
       "deactivated_at_date      object\n",
       "deactivated_at_time      object\n",
       "dtype: object"
      ]
     },
     "execution_count": 10,
     "metadata": {},
     "output_type": "execute_result"
    }
   ],
   "source": [
    "#check datatypes\n",
    "train_users.dtypes"
   ]
  },
  {
   "cell_type": "code",
   "execution_count": null,
   "metadata": {
    "scrolled": true
   },
   "outputs": [],
   "source": [
    "train_users.head()"
   ]
  },
  {
   "cell_type": "code",
   "execution_count": null,
   "metadata": {
    "collapsed": true
   },
   "outputs": [],
   "source": [
    "# we need the newly generated columns to be in a specific format.\n",
    "# the round_started_at_date , round_started_at_time , answered_at_time , answered_at_date , \n",
    "# deactivated_at_time , deactivated_at_date are in object format .\n",
    "# for our model we need them to be in timestamp format .\n",
    "# Hence the format conversion is done ."
   ]
  },
  {
   "cell_type": "code",
   "execution_count": 11,
   "metadata": {},
   "outputs": [],
   "source": [
    "#to datetime format\n",
    "train_users['round_started_at_date'] = pd.to_datetime(train_users['round_started_at_date'], format='%Y-%m-%d')\n",
    "\n",
    "train_users['round_started_at_time'] = pd.to_datetime(train_users['round_started_at_time'], format='%H:%M:%S')\n",
    "\n",
    "train_users['answered_at_date'] = pd.to_datetime(train_users['round_started_at_date'], format='%Y-%m-%d')\n",
    "\n",
    "train_users['answered_at_time'] = pd.to_datetime(train_users['answered_at_time'], format='%H:%M:%S')\n",
    "\n",
    "train_users['deactivated_at_date'] = pd.to_datetime(train_users['deactivated_at_date'], format='%Y-%m-%d')\n",
    "\n",
    "train_users['deactivated_at_time'] = pd.to_datetime(train_users['round_started_at_time'], format='%H:%M:%S')"
   ]
  },
  {
   "cell_type": "code",
   "execution_count": 12,
   "metadata": {
    "scrolled": true
   },
   "outputs": [
    {
     "name": "stderr",
     "output_type": "stream",
     "text": [
      "/home/sphoorti/anaconda3/lib/python3.6/site-packages/numpy/lib/arraysetops.py:279: FutureWarning: In the future, NAT != NAT will be True rather than False.\n",
      "  flag = np.concatenate(([True], aux[1:] != aux[:-1]))\n"
     ]
    },
    {
     "data": {
      "text/html": [
       "<div>\n",
       "<style>\n",
       "    .dataframe thead tr:only-child th {\n",
       "        text-align: right;\n",
       "    }\n",
       "\n",
       "    .dataframe thead th {\n",
       "        text-align: left;\n",
       "    }\n",
       "\n",
       "    .dataframe tbody tr th {\n",
       "        vertical-align: top;\n",
       "    }\n",
       "</style>\n",
       "<table border=\"1\" class=\"dataframe\">\n",
       "  <thead>\n",
       "    <tr style=\"text-align: right;\">\n",
       "      <th></th>\n",
       "      <th>correct</th>\n",
       "      <th>outcome</th>\n",
       "      <th>user_id</th>\n",
       "      <th>question_id</th>\n",
       "      <th>question_type</th>\n",
       "      <th>group_name</th>\n",
       "      <th>track_name</th>\n",
       "      <th>subtrack_name</th>\n",
       "      <th>tag_string</th>\n",
       "      <th>answer_id</th>\n",
       "      <th>game_type</th>\n",
       "      <th>num_players</th>\n",
       "      <th>question_set_id</th>\n",
       "      <th>round_started_at_date</th>\n",
       "      <th>round_started_at_time</th>\n",
       "      <th>answered_at_date</th>\n",
       "      <th>answered_at_time</th>\n",
       "      <th>deactivated_at_date</th>\n",
       "      <th>deactivated_at_time</th>\n",
       "    </tr>\n",
       "  </thead>\n",
       "  <tbody>\n",
       "    <tr>\n",
       "      <th>0</th>\n",
       "      <td>0</td>\n",
       "      <td>2</td>\n",
       "      <td>20282</td>\n",
       "      <td>5560</td>\n",
       "      <td>0</td>\n",
       "      <td>1</td>\n",
       "      <td>5</td>\n",
       "      <td>14</td>\n",
       "      <td>1060</td>\n",
       "      <td>6540</td>\n",
       "      <td>7</td>\n",
       "      <td>1</td>\n",
       "      <td>1567</td>\n",
       "      <td>688</td>\n",
       "      <td>73019</td>\n",
       "      <td>688</td>\n",
       "      <td>73065</td>\n",
       "      <td>688</td>\n",
       "      <td>73019</td>\n",
       "    </tr>\n",
       "    <tr>\n",
       "      <th>1</th>\n",
       "      <td>1</td>\n",
       "      <td>1</td>\n",
       "      <td>20282</td>\n",
       "      <td>4681</td>\n",
       "      <td>0</td>\n",
       "      <td>1</td>\n",
       "      <td>5</td>\n",
       "      <td>0</td>\n",
       "      <td>1221</td>\n",
       "      <td>4742</td>\n",
       "      <td>7</td>\n",
       "      <td>1</td>\n",
       "      <td>1227</td>\n",
       "      <td>688</td>\n",
       "      <td>73138</td>\n",
       "      <td>688</td>\n",
       "      <td>73201</td>\n",
       "      <td>688</td>\n",
       "      <td>73138</td>\n",
       "    </tr>\n",
       "    <tr>\n",
       "      <th>2</th>\n",
       "      <td>1</td>\n",
       "      <td>1</td>\n",
       "      <td>20282</td>\n",
       "      <td>1529</td>\n",
       "      <td>0</td>\n",
       "      <td>1</td>\n",
       "      <td>5</td>\n",
       "      <td>0</td>\n",
       "      <td>1272</td>\n",
       "      <td>4309</td>\n",
       "      <td>7</td>\n",
       "      <td>1</td>\n",
       "      <td>1148</td>\n",
       "      <td>688</td>\n",
       "      <td>73228</td>\n",
       "      <td>688</td>\n",
       "      <td>73283</td>\n",
       "      <td>688</td>\n",
       "      <td>73228</td>\n",
       "    </tr>\n",
       "    <tr>\n",
       "      <th>3</th>\n",
       "      <td>1</td>\n",
       "      <td>1</td>\n",
       "      <td>20282</td>\n",
       "      <td>2908</td>\n",
       "      <td>0</td>\n",
       "      <td>1</td>\n",
       "      <td>5</td>\n",
       "      <td>0</td>\n",
       "      <td>1272</td>\n",
       "      <td>4408</td>\n",
       "      <td>7</td>\n",
       "      <td>1</td>\n",
       "      <td>1168</td>\n",
       "      <td>688</td>\n",
       "      <td>73309</td>\n",
       "      <td>688</td>\n",
       "      <td>73352</td>\n",
       "      <td>688</td>\n",
       "      <td>73309</td>\n",
       "    </tr>\n",
       "    <tr>\n",
       "      <th>4</th>\n",
       "      <td>1</td>\n",
       "      <td>1</td>\n",
       "      <td>20282</td>\n",
       "      <td>1773</td>\n",
       "      <td>0</td>\n",
       "      <td>1</td>\n",
       "      <td>5</td>\n",
       "      <td>11</td>\n",
       "      <td>801</td>\n",
       "      <td>10822</td>\n",
       "      <td>7</td>\n",
       "      <td>1</td>\n",
       "      <td>2318</td>\n",
       "      <td>688</td>\n",
       "      <td>73377</td>\n",
       "      <td>688</td>\n",
       "      <td>73535</td>\n",
       "      <td>688</td>\n",
       "      <td>73377</td>\n",
       "    </tr>\n",
       "  </tbody>\n",
       "</table>\n",
       "</div>"
      ],
      "text/plain": [
       "   correct  outcome  user_id  question_id  question_type  group_name  \\\n",
       "0        0        2    20282         5560              0           1   \n",
       "1        1        1    20282         4681              0           1   \n",
       "2        1        1    20282         1529              0           1   \n",
       "3        1        1    20282         2908              0           1   \n",
       "4        1        1    20282         1773              0           1   \n",
       "\n",
       "   track_name  subtrack_name  tag_string  answer_id  game_type  num_players  \\\n",
       "0           5             14        1060       6540          7            1   \n",
       "1           5              0        1221       4742          7            1   \n",
       "2           5              0        1272       4309          7            1   \n",
       "3           5              0        1272       4408          7            1   \n",
       "4           5             11         801      10822          7            1   \n",
       "\n",
       "   question_set_id  round_started_at_date  round_started_at_time  \\\n",
       "0             1567                    688                  73019   \n",
       "1             1227                    688                  73138   \n",
       "2             1148                    688                  73228   \n",
       "3             1168                    688                  73309   \n",
       "4             2318                    688                  73377   \n",
       "\n",
       "   answered_at_date  answered_at_time  deactivated_at_date  \\\n",
       "0               688             73065                  688   \n",
       "1               688             73201                  688   \n",
       "2               688             73283                  688   \n",
       "3               688             73352                  688   \n",
       "4               688             73535                  688   \n",
       "\n",
       "   deactivated_at_time  \n",
       "0                73019  \n",
       "1                73138  \n",
       "2                73228  \n",
       "3                73309  \n",
       "4                73377  "
      ]
     },
     "execution_count": 12,
     "metadata": {},
     "output_type": "execute_result"
    }
   ],
   "source": [
    "#label encoding of date, time and tag_string attributes\n",
    "from sklearn.preprocessing import LabelEncoder\n",
    "le = LabelEncoder()\n",
    "train_users['round_started_at_date'] = le.fit_transform(train_users['round_started_at_date'])\n",
    "train_users['answered_at_date'] = le.fit_transform(train_users['answered_at_date'])\n",
    "train_users['deactivated_at_date'] = le.fit_transform(train_users['deactivated_at_date'])\n",
    "train_users['round_started_at_time'] = le.fit_transform(train_users['round_started_at_time'])\n",
    "train_users['answered_at_time'] = le.fit_transform(train_users['answered_at_time'])\n",
    "train_users['deactivated_at_time'] = le.fit_transform(train_users['deactivated_at_time'])\n",
    "#train_users['date_of_test'] = le.fit_transform(train_users['date_of_test'])\n",
    "train_users['tag_string'] = le.fit_transform(train_users['tag_string'])\n",
    "#train_users['time_taken'] = le.fit_transform(train_users['time_taken'])\n",
    "train_users.head()"
   ]
  },
  {
   "cell_type": "code",
   "execution_count": null,
   "metadata": {
    "collapsed": true
   },
   "outputs": [],
   "source": []
  },
  {
   "cell_type": "code",
   "execution_count": null,
   "metadata": {},
   "outputs": [],
   "source": [
    "train_users.head()"
   ]
  },
  {
   "cell_type": "code",
   "execution_count": null,
   "metadata": {
    "collapsed": true
   },
   "outputs": [],
   "source": []
  },
  {
   "cell_type": "code",
   "execution_count": null,
   "metadata": {
    "collapsed": true
   },
   "outputs": [],
   "source": []
  },
  {
   "cell_type": "markdown",
   "metadata": {},
   "source": [
    "# feature selection"
   ]
  },
  {
   "cell_type": "code",
   "execution_count": 13,
   "metadata": {
    "collapsed": true
   },
   "outputs": [],
   "source": [
    "from sklearn.metrics import confusion_matrix\n",
    "from sklearn.metrics import classification_report\n",
    "from sklearn.naive_bayes import GaussianNB\n",
    "from sklearn.metrics import mean_squared_error\n",
    "from sklearn import metrics"
   ]
  },
  {
   "cell_type": "code",
   "execution_count": 14,
   "metadata": {
    "collapsed": true
   },
   "outputs": [],
   "source": [
    "#for selecting attributes\n",
    "y = train_users['outcome']\n",
    "#x = train_users[['correct','tag_string','subtrack_name','user_id']]\n",
    "x = train_users.drop('outcome',axis=1, inplace=False)"
   ]
  },
  {
   "cell_type": "code",
   "execution_count": 15,
   "metadata": {},
   "outputs": [
    {
     "name": "stderr",
     "output_type": "stream",
     "text": [
      "/home/sphoorti/.local/lib/python3.6/site-packages/sklearn/cross_validation.py:41: DeprecationWarning: This module was deprecated in version 0.18 in favor of the model_selection module into which all the refactored classes and functions are moved. Also note that the interface of the new CV iterators are different from that of this module. This module will be removed in 0.20.\n",
      "  \"This module will be removed in 0.20.\", DeprecationWarning)\n"
     ]
    }
   ],
   "source": [
    "\n",
    "from sklearn import cross_validation\n",
    "## Spliting of training dataset into 80% training data and 20% testing data randomly\n",
    "X_train, X_test, Y_train, Y_test = cross_validation.train_test_split(x, y , test_size=0.2, random_state=42)"
   ]
  },
  {
   "cell_type": "code",
   "execution_count": null,
   "metadata": {
    "collapsed": true
   },
   "outputs": [],
   "source": [
    "\n",
    "# Now that we have our data clean and transformed to our suitable form, we now predict the necessary features \n",
    "# required for predicting the desired attribute's value (atribute : outcome)\n",
    "# We have used ensembles to find the important attributes . \n",
    "# ensembles can be shown to have more flexibility in the functions they can represent . \n",
    "# this feature of ensemble allowed us to use ensemble as a feature selector .\n"
   ]
  },
  {
   "cell_type": "code",
   "execution_count": 16,
   "metadata": {},
   "outputs": [
    {
     "name": "stdout",
     "output_type": "stream",
     "text": [
      "[ 0.70656498  0.00338748  0.00227329  0.00232035  0.0027363   0.00847598\n",
      "  0.0029619   0.00412972  0.0848564   0.0025671   0.00232093  0.00660038\n",
      "  0.00362583  0.01206047  0.00389289  0.12259883  0.00359215  0.02503503]\n"
     ]
    }
   ],
   "source": [
    "# Feature Importance with Extra Trees Classifier\n",
    "from sklearn.ensemble import ExtraTreesClassifier\n",
    "# load data\n",
    "# feature extraction\n",
    "model = ExtraTreesClassifier()\n",
    "model.fit(x, y)\n",
    "print(model.feature_importances_)"
   ]
  },
  {
   "cell_type": "code",
   "execution_count": 17,
   "metadata": {},
   "outputs": [
    {
     "data": {
      "text/plain": [
       "0.055555555555555552"
      ]
     },
     "execution_count": 17,
     "metadata": {},
     "output_type": "execute_result"
    }
   ],
   "source": [
    "m=model.feature_importances_\n",
    "\n",
    "m.mean()"
   ]
  },
  {
   "cell_type": "code",
   "execution_count": 18,
   "metadata": {
    "collapsed": true
   },
   "outputs": [],
   "source": [
    "import matplotlib.pyplot as plt"
   ]
  },
  {
   "cell_type": "code",
   "execution_count": 19,
   "metadata": {},
   "outputs": [
    {
     "name": "stdout",
     "output_type": "stream",
     "text": [
      "Feature ranking:\n",
      "1. feature 0 (0.706565)\n",
      "2. feature 15 (0.122599)\n",
      "3. feature 8 (0.084856)\n",
      "4. feature 17 (0.025035)\n",
      "5. feature 13 (0.012060)\n",
      "6. feature 5 (0.008476)\n",
      "7. feature 11 (0.006600)\n",
      "8. feature 7 (0.004130)\n",
      "9. feature 14 (0.003893)\n",
      "10. feature 12 (0.003626)\n",
      "11. feature 16 (0.003592)\n",
      "12. feature 1 (0.003387)\n",
      "13. feature 6 (0.002962)\n",
      "14. feature 4 (0.002736)\n",
      "15. feature 9 (0.002567)\n",
      "16. feature 10 (0.002321)\n",
      "17. feature 3 (0.002320)\n",
      "18. feature 2 (0.002273)\n"
     ]
    }
   ],
   "source": [
    "indices = np.argsort(m)[::-1]\n",
    "\n",
    "# Print the feature ranking\n",
    "print(\"Feature ranking:\")\n",
    "\n",
    "for f in range(x.shape[1]):\n",
    "    print(\"%d. feature %d (%f)\" % (f + 1, indices[f], m[indices[f]]))"
   ]
  },
  {
   "cell_type": "code",
   "execution_count": 20,
   "metadata": {},
   "outputs": [
    {
     "data": {
      "image/png": "[encoded data removed]",
      "text/plain": [
       "<matplotlib.figure.Figure at 0x7f059a04b4a8>"
      ]
     },
     "metadata": {},
     "output_type": "display_data"
    }
   ],
   "source": [
    "# Plot the feature importances of the forest\n",
    "plt.figure()\n",
    "plt.title(\"Feature importances\")\n",
    "plt.bar(range(x.shape[1]), m[indices],\n",
    "       color=\"r\", align=\"center\")\n",
    "plt.xticks(range(x.shape[1]), indices)\n",
    "plt.xlim([-1, x.shape[1]])\n",
    "plt.show()"
   ]
  },
  {
   "cell_type": "markdown",
   "metadata": {
    "collapsed": true
   },
   "source": [
    "# Models\n"
   ]
  },
  {
   "cell_type": "markdown",
   "metadata": {
    "collapsed": true
   },
   "source": [
    "# 1. GNB"
   ]
  },
  {
   "cell_type": "code",
   "execution_count": 21,
   "metadata": {
    "collapsed": true
   },
   "outputs": [],
   "source": [
    "from sklearn.metrics import confusion_matrix\n",
    "from sklearn.metrics import classification_report\n",
    "# Different classification techniques\n",
    "## Decision Tree \n",
    "from sklearn.metrics import mean_squared_error\n",
    "from sklearn import metrics\n",
    "from sklearn import tree"
   ]
  },
  {
   "cell_type": "code",
   "execution_count": 22,
   "metadata": {},
   "outputs": [],
   "source": [
    "#for selecting attributes\n",
    "y_new = train_users['outcome']\n",
    "#x = train_users[['correct','tag_string','subtrack_name','user_id']]\n",
    "x_new = train_users[['correct','tag_string','answered_at_date']]\n",
    "\n",
    "\n",
    "from sklearn import cross_validation\n",
    "## Spliting of training dataset into 80% training data and 20% testing data randomly\n",
    "X_train1, X_test1, Y_train1, Y_test1 = cross_validation.train_test_split(x_new, y_new , test_size=0.2, random_state=42)"
   ]
  },
  {
   "cell_type": "code",
   "execution_count": 23,
   "metadata": {
    "collapsed": true
   },
   "outputs": [],
   "source": [
    "## Spliting of training dataset into 80% training data and 20% testing data randomly\n",
    "X_trainVal, X_testVal, Y_trainVal, Y_testVal = cross_validation.train_test_split(X_train1, Y_train1 , test_size=0.25, random_state=42)"
   ]
  },
  {
   "cell_type": "code",
   "execution_count": null,
   "metadata": {
    "collapsed": true
   },
   "outputs": [],
   "source": []
  },
  {
   "cell_type": "code",
   "execution_count": 24,
   "metadata": {
    "collapsed": true
   },
   "outputs": [],
   "source": [
    "#KNN\n",
    "from sklearn.neighbors import NearestNeighbors\n",
    "from sklearn.metrics import accuracy_score"
   ]
  },
  {
   "cell_type": "code",
   "execution_count": 25,
   "metadata": {},
   "outputs": [
    {
     "data": {
      "text/plain": [
       "NearestNeighbors(algorithm='auto', leaf_size=30, metric='minkowski',\n",
       "         metric_params=None, n_jobs=1, n_neighbors=2, p=2, radius=1.0)"
      ]
     },
     "execution_count": 25,
     "metadata": {},
     "output_type": "execute_result"
    }
   ],
   "source": [
    "nbrs = NearestNeighbors(n_neighbors=2, algorithm='auto').fit(X_train1)\n",
    "distances, indices = nbrs.kneighbors(X_train1)\n",
    "nbrs.fit(X_train1, Y_train1)"
   ]
  },
  {
   "cell_type": "code",
   "execution_count": 27,
   "metadata": {
    "collapsed": true
   },
   "outputs": [],
   "source": [
    "from sklearn.neighbors import KNeighborsClassifier"
   ]
  },
  {
   "cell_type": "code",
   "execution_count": null,
   "metadata": {},
   "outputs": [],
   "source": []
  },
  {
   "cell_type": "code",
   "execution_count": 28,
   "metadata": {},
   "outputs": [
    {
     "name": "stdout",
     "output_type": "stream",
     "text": [
      "Accuracy is  72.151 % for K-Value: 1\n",
      "Accuracy is  72.2405 % for K-Value: 2\n",
      "Accuracy is  70.0145 % for K-Value: 3\n",
      "Accuracy is  69.9415 % for K-Value: 4\n",
      "Accuracy is  68.9065 % for K-Value: 5\n",
      "Accuracy is  68.3215 % for K-Value: 6\n",
      "Accuracy is  67.8055 % for K-Value: 7\n",
      "Accuracy is  67.4565 % for K-Value: 8\n",
      "Accuracy is  66.8625 % for K-Value: 9\n",
      "Accuracy is  66.5825 % for K-Value: 10\n",
      "Accuracy is  66.145 % for K-Value: 11\n",
      "Accuracy is  65.7475 % for K-Value: 12\n",
      "Accuracy is  65.5015 % for K-Value: 13\n",
      "Accuracy is  65.285 % for K-Value: 14\n",
      "Accuracy is  64.929 % for K-Value: 15\n",
      "Accuracy is  64.7615 % for K-Value: 16\n",
      "Accuracy is  64.4735 % for K-Value: 17\n",
      "Accuracy is  64.257 % for K-Value: 18\n",
      "Accuracy is  63.953 % for K-Value: 19\n",
      "Accuracy is  63.7575 % for K-Value: 20\n"
     ]
    }
   ],
   "source": [
    "#accuracy for train split\n",
    "for K in range(20):\n",
    " K_value =K+1\n",
    " neigh = KNeighborsClassifier(n_neighbors = K_value, weights='uniform', algorithm='auto')\n",
    " neigh.fit(X_train1, Y_train1) \n",
    " y_pred = neigh.predict(X_test1)\n",
    " print( \"Accuracy is \", accuracy_score(Y_test1,y_pred)*100,\"% for K-Value:\",K_value)"
   ]
  },
  {
   "cell_type": "code",
   "execution_count": 39,
   "metadata": {},
   "outputs": [
    {
     "name": "stdout",
     "output_type": "stream",
     "text": [
      "Accuracy is  69.8155 % for K-Value: 1\n",
      "Accuracy is  70.063 % for K-Value: 2\n",
      "Accuracy is  67.819 % for K-Value: 3\n",
      "Accuracy is  67.8175 % for K-Value: 4\n",
      "Accuracy is  66.9075 % for K-Value: 5\n",
      "Accuracy is  66.4915 % for K-Value: 6\n",
      "Accuracy is  65.871 % for K-Value: 7\n",
      "Accuracy is  65.5935 % for K-Value: 8\n",
      "Accuracy is  65.003 % for K-Value: 9\n",
      "Accuracy is  64.7645 % for K-Value: 10\n",
      "Accuracy is  64.39 % for K-Value: 11\n",
      "Accuracy is  64.102 % for K-Value: 12\n",
      "Accuracy is  63.7885 % for K-Value: 13\n",
      "Accuracy is  63.5705 % for K-Value: 14\n",
      "Accuracy is  63.3205 % for K-Value: 15\n",
      "Accuracy is  63.0905 % for K-Value: 16\n",
      "Accuracy is  62.8375 % for K-Value: 17\n",
      "Accuracy is  62.66 % for K-Value: 18\n",
      "Accuracy is  62.4335 % for K-Value: 19\n",
      "Accuracy is  62.2275 % for K-Value: 20\n"
     ]
    }
   ],
   "source": [
    "#accuracy for valid data\n",
    "for K in range(20):\n",
    " K_value =K+1\n",
    " neigh = KNeighborsClassifier(n_neighbors = K_value, weights='uniform', algorithm='auto')\n",
    " neigh.fit(X_trainVal, Y_trainVal) \n",
    " y_pred = neigh.predict(X_testVal)\n",
    " print( \"Accuracy is \", accuracy_score(Y_testVal,y_pred)*100,\"% for K-Value:\",K_value)"
   ]
  },
  {
   "cell_type": "code",
   "execution_count": 31,
   "metadata": {},
   "outputs": [
    {
     "name": "stderr",
     "output_type": "stream",
     "text": [
      "/home/sphoorti/.local/lib/python3.6/site-packages/sklearn/model_selection/_split.py:597: Warning: The least populated class in y has only 1 members, which is too few. The minimum number of members in any class cannot be less than n_splits=5.\n",
      "  % (min_groups, self.n_splits)), Warning)\n"
     ]
    },
    {
     "data": {
      "text/plain": [
       "array([ 50,  80, 110])"
      ]
     },
     "execution_count": 31,
     "metadata": {},
     "output_type": "execute_result"
    }
   ],
   "source": [
    "train_sizes, train_scores, valid_scores = learning_curve(neigh, X_train1, Y_train1, train_sizes=[50, 80, 110], cv=5)\n",
    "train_sizes "
   ]
  },
  {
   "cell_type": "code",
   "execution_count": 29,
   "metadata": {
    "collapsed": true
   },
   "outputs": [],
   "source": [
    "def plot_learning_curve(estimator, title, X_train1, Y_train1, ylim=None, cv=None,\n",
    "                        n_jobs=1, train_sizes=np.linspace(.1, 1.0, 5)):\n",
    "    \"\"\"\n",
    "    Generate a simple plot of the test and training learning curve.\n",
    "\n",
    "    Parameters\n",
    "    ----------\n",
    "    estimator : object type that implements the \"fit\" and \"predict\" methods\n",
    "        An object of that type which is cloned for each validation.\n",
    "\n",
    "    title : string\n",
    "        Title for the chart.\n",
    "\n",
    "    X : array-like, shape (n_samples, n_features)\n",
    "        Training vector, where n_samples is the number of samples and\n",
    "        n_features is the number of features.\n",
    "\n",
    "    y : array-like, shape (n_samples) or (n_samples, n_features), optional\n",
    "        Target relative to X for classification or regression;\n",
    "        None for unsupervised learning.\n",
    "\n",
    "    ylim : tuple, shape (ymin, ymax), optional\n",
    "        Defines minimum and maximum yvalues plotted.\n",
    "\n",
    "    cv : int, cross-validation generator or an iterable, optional\n",
    "        Determines the cross-validation splitting strategy.\n",
    "        Possible inputs for cv are:\n",
    "          - None, to use the default 3-fold cross-validation,\n",
    "          - integer, to specify the number of folds.\n",
    "          - An object to be used as a cross-validation generator.\n",
    "          - An iterable yielding train/test splits.\n",
    "\n",
    "        For integer/None inputs, if ``y`` is binary or multiclass,\n",
    "        :class:`StratifiedKFold` used. If the estimator is not a classifier\n",
    "        or if ``y`` is neither binary nor multiclass, :class:`KFold` is used.\n",
    "\n",
    "        Refer :ref:`User Guide <cross_validation>` for the various\n",
    "        cross-validators that can be used here.\n",
    "\n",
    "    n_jobs : integer, optional\n",
    "        Number of jobs to run in parallel (default 1).\n",
    "    \"\"\"\n",
    "    plt.figure()\n",
    "    plt.title(title)\n",
    "    if ylim is not None:\n",
    "        plt.ylim(*ylim)\n",
    "    plt.xlabel(\"Training examples\")\n",
    "    plt.ylabel(\"Score\")\n",
    "    train_sizes, train_scores, test_scores = learning_curve(\n",
    "        estimator, X_train1, Y_train1, cv=cv, n_jobs=n_jobs, train_sizes=train_sizes)\n",
    "    train_scores_mean = np.mean(train_scores, axis=1)\n",
    "    train_scores_std = np.std(train_scores, axis=1)\n",
    "    test_scores_mean = np.mean(test_scores, axis=1)\n",
    "    test_scores_std = np.std(test_scores, axis=1)\n",
    "    plt.grid()\n",
    "\n",
    "    plt.fill_between(train_sizes, train_scores_mean - train_scores_std,\n",
    "                     train_scores_mean + train_scores_std, alpha=0.1,\n",
    "                     color=\"r\")\n",
    "    plt.fill_between(train_sizes, test_scores_mean - test_scores_std,\n",
    "                     test_scores_mean + test_scores_std, alpha=0.1, color=\"g\")\n",
    "    plt.plot(train_sizes, train_scores_mean, 'o-', color=\"r\",\n",
    "             label=\"Training score\")\n",
    "    plt.plot(train_sizes, test_scores_mean, 'o-', color=\"g\",\n",
    "             label=\"Cross-validation score\")\n",
    "\n",
    "    plt.legend(loc=\"best\")\n",
    "    return plt\n"
   ]
  },
  {
   "cell_type": "code",
   "execution_count": null,
   "metadata": {
    "collapsed": true
   },
   "outputs": [],
   "source": []
  },
  {
   "cell_type": "code",
   "execution_count": 30,
   "metadata": {},
   "outputs": [
    {
     "data": {
      "text/plain": [
       "<module 'matplotlib.pyplot' from '/home/sphoorti/anaconda3/lib/python3.6/site-packages/matplotlib/pyplot.py'>"
      ]
     },
     "execution_count": 30,
     "metadata": {},
     "output_type": "execute_result"
    },
    {
     "data": {
      "image/png": "[encoded data removed]",
      "text/plain": [
       "<matplotlib.figure.Figure at 0x7f0599c0cb38>"
      ]
     },
     "metadata": {},
     "output_type": "display_data"
    }
   ],
   "source": [
    "from sklearn.model_selection import learning_curve\n",
    "from sklearn.model_selection import ShuffleSplit\n",
    "\n",
    "\n",
    "cv = ShuffleSplit(n_splits=10, test_size=0.4, random_state=0)\n",
    "\n",
    "estimator = KNeighborsClassifier()\n",
    "plot_learning_curve(estimator, title, X_trainVal, Y_trainVal, ylim=(0.1, 1.00), cv=cv, n_jobs=4)\n"
   ]
  },
  {
   "cell_type": "code",
   "execution_count": 37,
   "metadata": {},
   "outputs": [
    {
     "data": {
      "text/plain": [
       "<matplotlib.text.Text at 0x7f0599d379e8>"
      ]
     },
     "execution_count": 37,
     "metadata": {},
     "output_type": "execute_result"
    },
    {
     "data": {
      "image/png": "[encoded data removed]",
      "text/plain": [
       "<matplotlib.figure.Figure at 0x7f0599d78710>"
      ]
     },
     "metadata": {},
     "output_type": "display_data"
    }
   ],
   "source": [
    "\n",
    "# plot the relationship between K and testing accuracy\n",
    "# plt.plot(x_axis, y_axis)\n",
    "plt.plot(k_range, scores)\n",
    "plt.xlabel('Value of K for KNN')\n",
    "plt.ylabel('Testing Accuracy')\n",
    "\n"
   ]
  },
  {
   "cell_type": "code",
   "execution_count": 40,
   "metadata": {},
   "outputs": [
    {
     "name": "stdout",
     "output_type": "stream",
     "text": [
      "\n",
      "The accuracy of the knn classifier for k = 3 is 70%\n"
     ]
    }
   ],
   "source": [
    "knn = KNeighborsClassifier(n_neighbors=3,algorithm='auto')\n",
    "\n",
    "# fitting the model\n",
    "knn.fit(X_train1, Y_train1)\n",
    "\n",
    "# predict the response\n",
    "pred = knn.predict(X_test1)\n",
    "\n",
    "# evaluate accuracy\n",
    "acc = accuracy_score(Y_test1, pred) * 100\n",
    "print('\\nThe accuracy of the knn classifier for k = 3 is %d%%' % acc)"
   ]
  },
  {
   "cell_type": "code",
   "execution_count": 41,
   "metadata": {},
   "outputs": [
    {
     "name": "stdout",
     "output_type": "stream",
     "text": [
      "[1 2 1 ..., 4 1 4]\n"
     ]
    }
   ],
   "source": [
    "print(pred)"
   ]
  },
  {
   "cell_type": "code",
   "execution_count": null,
   "metadata": {
    "collapsed": true
   },
   "outputs": [],
   "source": []
  },
  {
   "cell_type": "code",
   "execution_count": null,
   "metadata": {
    "collapsed": true
   },
   "outputs": [],
   "source": []
  },
  {
   "cell_type": "code",
   "execution_count": null,
   "metadata": {},
   "outputs": [],
   "source": [
    "# creating odd list of K for KNN\n",
    "from sklearn.cross_validation import cross_val_score\n",
    "myList = list(range(0,20))\n",
    "neighbors = list(filter(lambda x: x % 3 != 0, myList))\n",
    "\n",
    "\n",
    "# empty list that will hold cv scores\n",
    "cv_scores = []\n",
    "\n",
    "# perform 10-fold cross validation\n",
    "for k in neighbors:\n",
    "    knn = KNeighborsClassifier(n_neighbors=k)\n",
    "    scores = cross_val_score(knn, X_train1, Y_train1, cv=10, scoring='accuracy')\n",
    "    cv_scores.append(scores.mean())\n",
    "\n",
    "# changing to misclassification error\n",
    "MSE = [1 - x for x in cv_scores]\n",
    "\n",
    "# determining best k\n",
    "optimal_k = neighbors[MSE.index(min(MSE))]\n",
    "print('\\nThe optimal number of neighbors is %d.' % optimal_k)\n",
    "\n",
    "# plot misclassification error vs k \n",
    "plt.plot(neighbors, MSE)\n",
    "plt.xlabel('Number of Neighbors K')\n",
    "plt.ylabel('Misclassification Error')\n",
    "plt.show()"
   ]
  },
  {
   "cell_type": "code",
   "execution_count": null,
   "metadata": {
    "collapsed": true
   },
   "outputs": [],
   "source": []
  },
  {
   "cell_type": "code",
   "execution_count": null,
   "metadata": {},
   "outputs": [],
   "source": [
    "distances"
   ]
  },
  {
   "cell_type": "code",
   "execution_count": null,
   "metadata": {
    "collapsed": true
   },
   "outputs": [],
   "source": []
  },
  {
   "cell_type": "code",
   "execution_count": null,
   "metadata": {
    "collapsed": true
   },
   "outputs": [],
   "source": []
  },
  {
   "cell_type": "code",
   "execution_count": 43,
   "metadata": {},
   "outputs": [
    {
     "name": "stdout",
     "output_type": "stream",
     "text": [
      "Training accuracy of GaussianNB with different parameters\n",
      "[0]     [0.8825925]\n",
      "Validation accuracy of GaussianNB with different parameters\n",
      "[0]     [0.88258000000000003]\n"
     ]
    }
   ],
   "source": [
    "\n",
    "models= []\n",
    "score_training= []\n",
    "score_validation= []\n",
    "\n",
    "\n",
    "d={'param1': { \"priors\": [0.2, 0.8] }}\n",
    "\n",
    "\n",
    "print(\"Training accuracy of GaussianNB with different parameters\")\n",
    "for i in range(0,1,1):\n",
    "    a = list(d.values())[i]\n",
    "   \n",
    "    clf = GaussianNB()\n",
    "     \n",
    "    clf.fit(X_train1, Y_train1)\n",
    "    prediction = clf.predict(X_train1)\n",
    "    ## Computing accuracy\n",
    "    from sklearn.metrics import accuracy_score\n",
    "        \n",
    "    models.append(i)\n",
    "    score_training.append(accuracy_score(prediction, Y_train1))\n",
    "    \n",
    "    \n",
    "print(models, \"   \", score_training)\n",
    "\n",
    "\n",
    "print(\"Validation accuracy of GaussianNB with different parameters\")\n",
    "for i in range(0,1,1):\n",
    "    a = list(d.values())[i]\n",
    "\n",
    "    clf = GaussianNB()\n",
    "     \n",
    "    clf.fit(X_trainVal, Y_trainVal)\n",
    "    prediction = clf.predict(X_testVal)\n",
    "    ## Computing accuracy\n",
    "    from sklearn.metrics import accuracy_score\n",
    "        \n",
    "    score_validation.append(accuracy_score(prediction, Y_testVal))\n",
    "    \n",
    "    \n",
    "print(models, \"   \", score_validation)\n",
    "\n",
    "\n",
    "#measure_performance(features_train, labels_train, clf)\n",
    "\n",
    "#matrix = confusion_matrix(labels_test, prediction)\n",
    "#print(matrix)\n",
    "\n",
    "#report = classification_report(labels_test, prediction)\n",
    "#print(report)\n",
    "\n",
    "#rms = mean_squared_error(labels_test, prediction)\n",
    "#print(\"Root mean square error: \",rms)"
   ]
  },
  {
   "cell_type": "code",
   "execution_count": 44,
   "metadata": {},
   "outputs": [
    {
     "name": "stdout",
     "output_type": "stream",
     "text": [
      "Training accuracy of GaussianNB with different parameters\n",
      "[0]     [0.8825925]\n",
      "Validation accuracy of GaussianNB with different parameters\n",
      "[0]     [0.88258000000000003]\n"
     ]
    }
   ],
   "source": [
    "\n",
    "models= []\n",
    "score_training= []\n",
    "score_validation= []\n",
    "\n",
    "\n",
    "d={'param2': { \"priors\": [0.4, 0.6] }}\n",
    "\n",
    "\n",
    "print(\"Training accuracy of GaussianNB with different parameters\")\n",
    "for i in range(0,1,1):\n",
    "    a = list(d.values())[i]\n",
    "   \n",
    "    clf = GaussianNB()\n",
    "     \n",
    "    clf.fit(X_train1, Y_train1)\n",
    "    prediction = clf.predict(X_train1)\n",
    "    ## Computing accuracy\n",
    "    from sklearn.metrics import accuracy_score\n",
    "        \n",
    "    models.append(i)\n",
    "    score_training.append(accuracy_score(prediction, Y_train1))\n",
    "    \n",
    "    \n",
    "print(models, \"   \", score_training)\n",
    "\n",
    "\n",
    "print(\"Validation accuracy of GaussianNB with different parameters\")\n",
    "for i in range(0,1,1):\n",
    "    a = list(d.values())[i]\n",
    "\n",
    "    clf = GaussianNB()\n",
    "     \n",
    "    clf.fit(X_trainVal, Y_trainVal)\n",
    "    prediction = clf.predict(X_testVal)\n",
    "    ## Computing accuracy\n",
    "    from sklearn.metrics import accuracy_score\n",
    "        \n",
    "    score_validation.append(accuracy_score(prediction, Y_testVal))\n",
    "    \n",
    "    \n",
    "print(models, \"   \", score_validation)\n",
    "\n",
    "\n",
    "#measure_performance(features_train, labels_train, clf)\n",
    "\n",
    "#matrix = confusion_matrix(labels_test, prediction)\n",
    "#print(matrix)\n",
    "\n",
    "#report = classification_report(labels_test, prediction)\n",
    "#print(report)\n",
    "\n",
    "#rms = mean_squared_error(labels_test, prediction)\n",
    "#print(\"Root mean square error: \",rms)"
   ]
  },
  {
   "cell_type": "code",
   "execution_count": 45,
   "metadata": {},
   "outputs": [
    {
     "name": "stdout",
     "output_type": "stream",
     "text": [
      "Training accuracy of GaussianNB with different parameters\n"
     ]
    },
    {
     "ename": "IndexError",
     "evalue": "list index out of range",
     "output_type": "error",
     "traceback": [
      "\u001b[0;31m---------------------------------------------------------------------------\u001b[0m",
      "\u001b[0;31mIndexError\u001b[0m                                Traceback (most recent call last)",
      "\u001b[0;32m<ipython-input-45-6e97b758c920>\u001b[0m in \u001b[0;36m<module>\u001b[0;34m()\u001b[0m\n\u001b[1;32m     13\u001b[0m \u001b[0mprint\u001b[0m\u001b[0;34m(\u001b[0m\u001b[0;34m\"Training accuracy of GaussianNB with different parameters\"\u001b[0m\u001b[0;34m)\u001b[0m\u001b[0;34m\u001b[0m\u001b[0m\n\u001b[1;32m     14\u001b[0m \u001b[0;32mfor\u001b[0m \u001b[0mi\u001b[0m \u001b[0;32min\u001b[0m \u001b[0mrange\u001b[0m\u001b[0;34m(\u001b[0m\u001b[0;36m0\u001b[0m\u001b[0;34m,\u001b[0m\u001b[0;36m5\u001b[0m\u001b[0;34m,\u001b[0m\u001b[0;36m1\u001b[0m\u001b[0;34m)\u001b[0m\u001b[0;34m:\u001b[0m\u001b[0;34m\u001b[0m\u001b[0m\n\u001b[0;32m---> 15\u001b[0;31m     \u001b[0ma\u001b[0m \u001b[0;34m=\u001b[0m \u001b[0mlist\u001b[0m\u001b[0;34m(\u001b[0m\u001b[0md\u001b[0m\u001b[0;34m.\u001b[0m\u001b[0mvalues\u001b[0m\u001b[0;34m(\u001b[0m\u001b[0;34m)\u001b[0m\u001b[0;34m)\u001b[0m\u001b[0;34m[\u001b[0m\u001b[0mi\u001b[0m\u001b[0;34m]\u001b[0m\u001b[0;34m\u001b[0m\u001b[0m\n\u001b[0m\u001b[1;32m     16\u001b[0m \u001b[0;34m\u001b[0m\u001b[0m\n\u001b[1;32m     17\u001b[0m     \u001b[0mclf\u001b[0m \u001b[0;34m=\u001b[0m \u001b[0mGaussianNB\u001b[0m\u001b[0;34m(\u001b[0m\u001b[0;34m)\u001b[0m\u001b[0;34m\u001b[0m\u001b[0m\n",
      "\u001b[0;31mIndexError\u001b[0m: list index out of range"
     ]
    }
   ],
   "source": [
    "\n",
    "models= []\n",
    "score_training= []\n",
    "score_validation= []\n",
    "\n",
    "\n",
    "d={'param2': { \"priors\": [0.4, 0.6] },\n",
    "   'param3': { \"priors\": [0.5, 0.5] },\n",
    "   'param4': { \"priors\": [0.6, 0.4] }, \n",
    "   'param5': { \"priors\": [0.8, 0.2] }}\n",
    "\n",
    "\n",
    "print(\"Training accuracy of GaussianNB with different parameters\")\n",
    "for i in range(0,5,1):\n",
    "    a = list(d.values())[i]\n",
    "   \n",
    "    clf = GaussianNB()\n",
    "     \n",
    "    clf.fit(X_train1, Y_train1)\n",
    "    prediction = clf.predict(X_train1)\n",
    "    ## Computing accuracy\n",
    "    from sklearn.metrics import accuracy_score\n",
    "        \n",
    "    models.append(i)\n",
    "    score_training.append(accuracy_score(prediction, Y_train1))\n",
    "    \n",
    "    \n",
    "print(models, \"   \", score_training)\n",
    "\n",
    "\n",
    "print(\"Validation accuracy of GaussianNB with different parameters\")\n",
    "for i in range(0,5,1):\n",
    "    a = list(d.values())[i]\n",
    "\n",
    "    clf = GaussianNB()\n",
    "     \n",
    "    clf.fit(X_trainVal, Y_trainVal)\n",
    "    prediction = clf.predict(X_testVal)\n",
    "    ## Computing accuracy\n",
    "    from sklearn.metrics import accuracy_score\n",
    "        \n",
    "    score_validation.append(accuracy_score(prediction, Y_testVal))\n",
    "    \n",
    "    \n",
    "print(models, \"   \", score_validation)\n",
    "\n",
    "\n",
    "#measure_performance(features_train, labels_train, clf)\n",
    "\n",
    "#matrix = confusion_matrix(labels_test, prediction)\n",
    "#print(matrix)\n",
    "\n",
    "#report = classification_report(labels_test, prediction)\n",
    "#print(report)\n",
    "\n",
    "#rms = mean_squared_error(labels_test, prediction)\n",
    "#print(\"Root mean square error: \",rms)"
   ]
  },
  {
   "cell_type": "code",
   "execution_count": null,
   "metadata": {
    "collapsed": true
   },
   "outputs": [],
   "source": [
    "error_train = []\n",
    "error_validation = []\n",
    "\n",
    "for i in range(0,5,1):\n",
    "    temp = 1 - score_training[i]\n",
    "    error_train.append(temp)\n",
    "\n",
    "\n",
    "for i in range(0,5,1):\n",
    "    temp = 1 - score_validation[i]\n",
    "    error_validation.append(temp)"
   ]
  },
  {
   "cell_type": "code",
   "execution_count": null,
   "metadata": {},
   "outputs": [],
   "source": [
    "dat = pd.DataFrame(index=[1,2,3,4,5])\n",
    "\n",
    "dat['training error'] = error_train \n",
    "dat['validation error'] = error_validation\n",
    "\n",
    "dat.plot(title=\"Models Pereformance Graph\")"
   ]
  },
  {
   "cell_type": "markdown",
   "metadata": {},
   "source": [
    "### There was no variation in GuassianNB method when tuned with different parameters"
   ]
  },
  {
   "cell_type": "code",
   "execution_count": null,
   "metadata": {},
   "outputs": [],
   "source": [
    "error_train"
   ]
  },
  {
   "cell_type": "code",
   "execution_count": null,
   "metadata": {},
   "outputs": [],
   "source": [
    "error_validation"
   ]
  },
  {
   "cell_type": "markdown",
   "metadata": {},
   "source": [
    "# 2. decision tree\n"
   ]
  },
  {
   "cell_type": "code",
   "execution_count": null,
   "metadata": {
    "collapsed": true
   },
   "outputs": [],
   "source": []
  },
  {
   "cell_type": "code",
   "execution_count": null,
   "metadata": {
    "collapsed": true
   },
   "outputs": [],
   "source": [
    "from sklearn.metrics import confusion_matrix\n",
    "from sklearn.metrics import classification_report\n",
    "# Different classification techniques\n",
    "## Decision Tree \n",
    "from sklearn.metrics import mean_squared_error\n",
    "from sklearn import metrics\n",
    "from sklearn import tree\n"
   ]
  },
  {
   "cell_type": "code",
   "execution_count": null,
   "metadata": {
    "collapsed": true
   },
   "outputs": [],
   "source": [
    "models= []\n",
    "score_training= []\n",
    "score_validation= []"
   ]
  },
  {
   "cell_type": "code",
   "execution_count": null,
   "metadata": {
    "collapsed": true
   },
   "outputs": [],
   "source": [
    "d={'param1': {\"splitter\": \"random\", \"criterion\":\"entropy\", \"max_depth\": 20, \"max_leaf_nodes\": 2},\n",
    "   'param2': {\"splitter\": \"random\", \"criterion\":\"entropy\", \"max_depth\": 20, \"max_leaf_nodes\": 200},\n",
    "   'param3': {\"splitter\": \"random\", \"criterion\":\"entropy\", \"max_depth\": 200, \"max_leaf_nodes\": 2},\n",
    "   'param4': {\"splitter\": \"random\", \"criterion\":\"entropy\", \"max_depth\": 200, \"max_leaf_nodes\": 200},\n",
    "   'param5': {\"splitter\": \"best\", \"criterion\":\"entropy\", \"max_depth\": 20, \"max_leaf_nodes\": 2},\n",
    "   'param6': {\"splitter\": \"best\", \"criterion\":\"entropy\", \"max_depth\": 20, \"max_leaf_nodes\": 200},\n",
    "   'param7': {\"splitter\": \"best\", \"criterion\":\"entropy\", \"max_depth\": 200, \"max_leaf_nodes\": 2},\n",
    "   'param8': {\"splitter\": \"best\", \"criterion\":\"entropy\", \"max_depth\": 200, \"max_leaf_nodes\": 200},\n",
    "   'param9':  {\"splitter\": \"random\", \"criterion\":\"gini\", \"max_depth\": 20, \"max_leaf_nodes\": 2},\n",
    "   'param10': {\"splitter\": \"random\", \"criterion\":\"gini\", \"max_depth\": 20, \"max_leaf_nodes\": 200},\n",
    "   'param11': {\"splitter\": \"random\", \"criterion\":\"gini\", \"max_depth\": 200, \"max_leaf_nodes\": 2},\n",
    "   'param12': {\"splitter\": \"random\", \"criterion\":\"gini\", \"max_depth\": 200, \"max_leaf_nodes\": 200},\n",
    "   'param13': {\"splitter\": \"best\", \"criterion\":\"gini\", \"max_depth\": 20, \"max_leaf_nodes\": 2},\n",
    "   'param14': {\"splitter\": \"best\", \"criterion\":\"gini\", \"max_depth\": 20, \"max_leaf_nodes\": 200},\n",
    "   'param15': {\"splitter\": \"best\", \"criterion\":\"gini\", \"max_depth\": 200, \"max_leaf_nodes\": 2},\n",
    "   'param16': {\"splitter\": \"best\", \"criterion\":\"gini\", \"max_depth\": 200, \"max_leaf_nodes\": 200},\n",
    "   'param17':  {\"splitter\": \"best\", \"criterion\":\"entropy\", \"max_depth\": 20},\n",
    "   'param18':  {\"splitter\": \"best\", \"criterion\":\"gini\", \"max_depth\": 20},\n",
    "   'param19':  {\"splitter\": \"random\", \"criterion\":\"entropy\", \"max_depth\": 200},\n",
    "   'param20':  {\"splitter\": \"random\", \"criterion\":\"gini\", \"max_depth\": 200}}"
   ]
  },
  {
   "cell_type": "code",
   "execution_count": null,
   "metadata": {},
   "outputs": [],
   "source": [
    "print(\"Training accuracy of Decision Tree with different parameters\")\n",
    "v = list(d.values())\n",
    "\n",
    "for i in range(0,20,1):\n",
    "    a = v[i]\n",
    "\n",
    "    clf = tree.DecisionTreeClassifier(**a)\n",
    "     \n",
    "    clf.fit(X_train, Y_train)\n",
    "    prediction = clf.predict(X_train)\n",
    "    ## Computing accuracy\n",
    "    from sklearn.metrics import accuracy_score\n",
    "        \n",
    "    models.append(i)\n",
    "    score_training.append(accuracy_score(prediction, Y_train))\n",
    "    \n",
    "    \n",
    "print(models, \"   \", score_training)\n"
   ]
  },
  {
   "cell_type": "code",
   "execution_count": null,
   "metadata": {},
   "outputs": [],
   "source": [
    "\n",
    "print(\"Validation accuracy of Decision Tree with different parameters\")\n",
    "v = list(d.values())\n",
    "for i in range(0,20,1):\n",
    "    a = v[i]\n",
    "\n",
    "    clf = tree.DecisionTreeClassifier(**a)\n",
    "     \n",
    "    clf.fit(X_train, Y_train)\n",
    "    prediction = clf.predict(X_test)\n",
    "    ## Computing accuracy\n",
    "    from sklearn.metrics import accuracy_score\n",
    "        \n",
    "    score_validation.append(accuracy_score(prediction, Y_test))\n",
    "    \n",
    "    \n",
    "print(models, \"   \", score_validation)\n",
    "\n",
    "\n",
    "#measure_performance(features_train, labels_train, clf)\n",
    "\n",
    "#matrix = confusion_matrix(labels_test, prediction)\n",
    "#print(matrix)\n",
    "\n",
    "#report = classification_report(labels_test, prediction)\n",
    "#print(report)\n",
    "\n",
    "#rms = mean_squared_error(labels_test, prediction)\n",
    "#print(\"Root mean square error: \",rms)"
   ]
  },
  {
   "cell_type": "code",
   "execution_count": null,
   "metadata": {},
   "outputs": [],
   "source": [
    "error_train = []\n",
    "error_validation = []\n",
    "\n",
    "\n",
    "for i in range(0,20,1):\n",
    "    temp = 1 - score_training[i]\n",
    "    error_train.append(temp)\n",
    "    \n",
    "print(error_train)\n",
    "    \n",
    "for i in range(0,20,1):\n",
    "    temp = 1 - score_validation[i]\n",
    "    error_validation.append(temp)\n",
    "    \n",
    "print(error_validation)"
   ]
  },
  {
   "cell_type": "code",
   "execution_count": null,
   "metadata": {},
   "outputs": [],
   "source": [
    "C = [a - b for a, b in zip(error_validation, error_train)]\n",
    "print(C)\n",
    "\n",
    "\n",
    "m = min(i for i in C if i > 0)\n",
    "\n",
    "print(\"Position:\", C.index(m))\n",
    "print(\"Value:\", m)"
   ]
  },
  {
   "cell_type": "code",
   "execution_count": null,
   "metadata": {
    "collapsed": true
   },
   "outputs": [],
   "source": [
    "modelno = [1,2,3,4,5,6,7,8,9,10,11,12,13,14,15,16,17,18,19,20]"
   ]
  },
  {
   "cell_type": "code",
   "execution_count": null,
   "metadata": {
    "collapsed": true
   },
   "outputs": [],
   "source": [
    "dat = pd.DataFrame(index=[1,2,3,4,5,6,7,8,9,10,11,12,13,14,15,16,17,18,19,20])\n",
    "dat['model'] = modelno\n",
    "dat['training error'] = error_train \n",
    "dat['validation error'] = error_validation"
   ]
  },
  {
   "cell_type": "code",
   "execution_count": null,
   "metadata": {},
   "outputs": [],
   "source": [
    "dat.set_index(\"model\",inplace=True)\n",
    "dat.plot(title=\"Models Pereformance Graph\")"
   ]
  },
  {
   "cell_type": "markdown",
   "metadata": {
    "collapsed": true
   },
   "source": [
    "### The best model which has least difference between training and validation error is model 12\n"
   ]
  },
  {
   "cell_type": "markdown",
   "metadata": {},
   "source": [
    "# 3.random forest classifier"
   ]
  },
  {
   "cell_type": "code",
   "execution_count": null,
   "metadata": {
    "collapsed": true
   },
   "outputs": [],
   "source": [
    "from sklearn.ensemble import RandomForestClassifier\n",
    "from sklearn.metrics import mean_squared_error\n",
    "from sklearn import metrics\n",
    "from sklearn import tree\n"
   ]
  },
  {
   "cell_type": "code",
   "execution_count": null,
   "metadata": {
    "collapsed": true
   },
   "outputs": [],
   "source": [
    "models= []\n",
    "score_training= []\n",
    "score_validation= []\n",
    "\n",
    "\n",
    "d={'param1': {\"n_estimators\": 20, \"criterion\":\"entropy\", \"max_depth\": 20, \"max_leaf_nodes\": 2},\n",
    "   'param2': {\"n_estimators\": 20, \"criterion\":\"entropy\", \"max_depth\": 20, \"max_leaf_nodes\": 200},\n",
    "   'param3': {\"n_estimators\": 20, \"criterion\":\"entropy\", \"max_depth\": 200, \"max_leaf_nodes\": 2},\n",
    "   'param4': {\"n_estimators\": 20, \"criterion\":\"entropy\", \"max_depth\": 200, \"max_leaf_nodes\": 200},\n",
    "   'param5': {\"n_estimators\": 200, \"criterion\":\"entropy\", \"max_depth\": 20, \"max_leaf_nodes\": 2},\n",
    "   'param6': {\"n_estimators\": 200, \"criterion\":\"entropy\", \"max_depth\": 20, \"max_leaf_nodes\": 200},\n",
    "   'param7': {\"n_estimators\": 200, \"criterion\":\"entropy\", \"max_depth\": 200, \"max_leaf_nodes\": 2},\n",
    "   'param8': {\"n_estimators\": 200, \"criterion\":\"entropy\", \"max_depth\": 200, \"max_leaf_nodes\": 200},\n",
    "   'param9':  {\"n_estimators\": 20, \"criterion\":\"gini\", \"max_depth\": 20, \"max_leaf_nodes\": 2},\n",
    "   'param10': {\"n_estimators\": 20, \"criterion\":\"gini\", \"max_depth\": 20, \"max_leaf_nodes\": 200},\n",
    "   'param11': {\"n_estimators\": 20, \"criterion\":\"gini\", \"max_depth\": 200, \"max_leaf_nodes\": 2},\n",
    "   'param12': {\"n_estimators\": 20, \"criterion\":\"gini\", \"max_depth\": 200, \"max_leaf_nodes\": 200},\n",
    "   'param13': {\"n_estimators\": 200, \"criterion\":\"gini\", \"max_depth\": 20, \"max_leaf_nodes\": 2},\n",
    "   'param14': {\"n_estimators\": 200, \"criterion\":\"gini\", \"max_depth\": 20, \"max_leaf_nodes\": 200},\n",
    "   'param15': {\"n_estimators\": 200, \"criterion\":\"gini\", \"max_depth\": 200, \"max_leaf_nodes\": 2},\n",
    "   'param16': {\"n_estimators\": 200, \"criterion\":\"gini\", \"max_depth\": 200, \"max_leaf_nodes\": 200}}\n"
   ]
  },
  {
   "cell_type": "code",
   "execution_count": null,
   "metadata": {},
   "outputs": [],
   "source": [
    "print(\"Training accuracy of Random Forest Classifier with different parameters\")\n",
    "v = list(d.values())\n",
    "for i in range(0,16,1):\n",
    "    a = v[i]\n",
    "\n",
    "    clf = RandomForestClassifier(**a)\n",
    "     \n",
    "    clf.fit(X_train, Y_train)\n",
    "    prediction = clf.predict(X_train)\n",
    "    ## Computing accuracy\n",
    "    from sklearn.metrics import accuracy_score\n",
    "        \n",
    "    models.append(i)\n",
    "    score_training.append(accuracy_score(prediction, Y_train))\n",
    "    \n",
    "    \n",
    "print(models, \"   \", score_training)\n",
    "\n",
    "\n",
    "\n"
   ]
  },
  {
   "cell_type": "code",
   "execution_count": null,
   "metadata": {
    "collapsed": true
   },
   "outputs": [],
   "source": [
    "print(\"Validation accuracy of Random Forest Classifier with different parameters\")\n",
    "v = list(d.values())\n",
    "for i in range(0,16,1):\n",
    "    a = v[i]\n",
    "\n",
    "    clf = RandomForestClassifier(**a)\n",
    "     \n",
    "    clf.fit(X_train, Y_train)\n",
    "    prediction = clf.predict(X_test)\n",
    "    ## Computing accuracy\n",
    "    from sklearn.metrics import accuracy_score\n",
    "        \n",
    "    score_validation.append(accuracy_score(prediction, Y_test))\n",
    "    \n",
    "    \n",
    "print(models, \"   \", score_validation)\n"
   ]
  },
  {
   "cell_type": "code",
   "execution_count": null,
   "metadata": {
    "collapsed": true
   },
   "outputs": [],
   "source": []
  },
  {
   "cell_type": "markdown",
   "metadata": {},
   "source": [
    "# 4. logistic regression"
   ]
  },
  {
   "cell_type": "code",
   "execution_count": null,
   "metadata": {
    "collapsed": true
   },
   "outputs": [],
   "source": [
    "from sklearn import cross_validation\n",
    "from sklearn import linear_model\n",
    "from sklearn.metrics import mean_squared_error\n",
    "## Spliting of training dataset into 80% training data and 20% testing data randomly\n",
    "features_train, features_test, labels_train, labels_test = cross_validation.train_test_split(x_new, y_new, test_size=0.2, random_state=42)\n",
    "from sklearn.metrics import confusion_matrix\n",
    "from sklearn.metrics import classification_report\n",
    "\n"
   ]
  },
  {
   "cell_type": "code",
   "execution_count": null,
   "metadata": {},
   "outputs": [],
   "source": [
    "\n",
    "clf = linear_model.LogisticRegression(multi_class='multinomial', solver='newton-cg')\n",
    "\n",
    "clf.fit(features_train, labels_train)\n",
    "prediction = clf.predict(features_test)\n",
    "## Computing accuracy\n",
    "from sklearn.metrics import accuracy_score\n",
    "print(accuracy_score(prediction, labels_test))\n",
    "\n",
    "matrix = confusion_matrix(labels_test, prediction)\n",
    "print(matrix)\n",
    "\n",
    "rms = mean_squared_error(labels_test, prediction)\n",
    "print(\"Root mean square error: \",rms)\n",
    "\n",
    "report = classification_report(labels_test, prediction)\n",
    "print(report)\n",
    "\n"
   ]
  },
  {
   "cell_type": "code",
   "execution_count": null,
   "metadata": {
    "collapsed": true
   },
   "outputs": [],
   "source": []
  },
  {
   "cell_type": "markdown",
   "metadata": {},
   "source": [
    "# post processing"
   ]
  },
  {
   "cell_type": "code",
   "execution_count": null,
   "metadata": {},
   "outputs": [],
   "source": [
    "train_users.query('outcome != 0')"
   ]
  },
  {
   "cell_type": "code",
   "execution_count": null,
   "metadata": {
    "collapsed": true
   },
   "outputs": [],
   "source": [
    "x_post=train_users[['correct','tag_string','answered_at_date']]"
   ]
  },
  {
   "cell_type": "markdown",
   "metadata": {},
   "source": [
    "# models after post processing\n"
   ]
  },
  {
   "cell_type": "markdown",
   "metadata": {},
   "source": [
    "# 1.decision tree"
   ]
  },
  {
   "cell_type": "code",
   "execution_count": null,
   "metadata": {
    "collapsed": true
   },
   "outputs": [],
   "source": [
    "from sklearn import cross_validation\n",
    "## Spliting of training dataset into 80% training data and 20% testing data randomly\n",
    "#features_train, features_test, labels_train, labels_test = cross_validation.train_test_split(X, y, test_size=0.3, random_state=42)\n",
    "X_train2, X_test2, Y_train2, Y_test2 = cross_validation.train_test_split(x_post, y, test_size=0.2, random_state=42)"
   ]
  },
  {
   "cell_type": "code",
   "execution_count": null,
   "metadata": {
    "collapsed": true
   },
   "outputs": [],
   "source": [
    "from sklearn.metrics import confusion_matrix\n",
    "from sklearn.metrics import classification_report\n",
    "# Different classification techniques\n",
    "## Decision Tree \n",
    "from sklearn.metrics import mean_squared_error\n",
    "from sklearn import metrics\n",
    "from sklearn import tree\n",
    "\n",
    "models= []\n",
    "score_training= []\n",
    "score_validation= []"
   ]
  },
  {
   "cell_type": "code",
   "execution_count": null,
   "metadata": {
    "collapsed": true
   },
   "outputs": [],
   "source": [
    "d={'param1': {\"splitter\": \"random\", \"criterion\":\"entropy\", \"max_depth\": 20, \"max_leaf_nodes\": 2},\n",
    "   'param2': {\"splitter\": \"random\", \"criterion\":\"entropy\", \"max_depth\": 20, \"max_leaf_nodes\": 200},\n",
    "   'param3': {\"splitter\": \"random\", \"criterion\":\"entropy\", \"max_depth\": 200, \"max_leaf_nodes\": 2},\n",
    "   'param4': {\"splitter\": \"random\", \"criterion\":\"entropy\", \"max_depth\": 200, \"max_leaf_nodes\": 200},\n",
    "   'param5': {\"splitter\": \"best\", \"criterion\":\"entropy\", \"max_depth\": 20, \"max_leaf_nodes\": 2},\n",
    "   'param6': {\"splitter\": \"best\", \"criterion\":\"entropy\", \"max_depth\": 20, \"max_leaf_nodes\": 200},\n",
    "   'param7': {\"splitter\": \"best\", \"criterion\":\"entropy\", \"max_depth\": 200, \"max_leaf_nodes\": 2},\n",
    "   'param8': {\"splitter\": \"best\", \"criterion\":\"entropy\", \"max_depth\": 200, \"max_leaf_nodes\": 200},\n",
    "   'param9':  {\"splitter\": \"random\", \"criterion\":\"gini\", \"max_depth\": 20, \"max_leaf_nodes\": 2},\n",
    "   'param10': {\"splitter\": \"random\", \"criterion\":\"gini\", \"max_depth\": 20, \"max_leaf_nodes\": 200},\n",
    "   'param11': {\"splitter\": \"random\", \"criterion\":\"gini\", \"max_depth\": 200, \"max_leaf_nodes\": 2},\n",
    "   'param12': {\"splitter\": \"random\", \"criterion\":\"gini\", \"max_depth\": 200, \"max_leaf_nodes\": 200},\n",
    "   'param13': {\"splitter\": \"best\", \"criterion\":\"gini\", \"max_depth\": 20, \"max_leaf_nodes\": 2},\n",
    "   'param14': {\"splitter\": \"best\", \"criterion\":\"gini\", \"max_depth\": 20, \"max_leaf_nodes\": 200},\n",
    "   'param15': {\"splitter\": \"best\", \"criterion\":\"gini\", \"max_depth\": 200, \"max_leaf_nodes\": 2},\n",
    "   'param16': {\"splitter\": \"best\", \"criterion\":\"gini\", \"max_depth\": 200, \"max_leaf_nodes\": 200},\n",
    "   'param17':  {\"splitter\": \"best\", \"criterion\":\"entropy\", \"max_depth\": 20},\n",
    "   'param18':  {\"splitter\": \"best\", \"criterion\":\"gini\", \"max_depth\": 20},\n",
    "   'param19':  {\"splitter\": \"random\", \"criterion\":\"entropy\", \"max_depth\": 200},\n",
    "   'param20':  {\"splitter\": \"random\", \"criterion\":\"gini\", \"max_depth\": 200}}"
   ]
  },
  {
   "cell_type": "code",
   "execution_count": null,
   "metadata": {},
   "outputs": [],
   "source": [
    "print(\"Training accuracy of Decision Tree with different parameters\")\n",
    "v = list(d.values())\n",
    "\n",
    "for i in range(0,20,1):\n",
    "    a = v[i]\n",
    "\n",
    "    clf = tree.DecisionTreeClassifier(**a)\n",
    "     \n",
    "    clf.fit(X_train2, Y_train2)\n",
    "    prediction = clf.predict(X_train2)\n",
    "    ## Computing accuracy\n",
    "    from sklearn.metrics import accuracy_score\n",
    "        \n",
    "    models.append(i)\n",
    "    score_training.append(accuracy_score(prediction, Y_train2))\n",
    "    \n",
    "    \n",
    "print(models, \"   \", score_training)"
   ]
  },
  {
   "cell_type": "code",
   "execution_count": null,
   "metadata": {},
   "outputs": [],
   "source": [
    "\n",
    "print(\"Validation accuracy of Decision Tree with different parameters\")\n",
    "v = list(d.values())\n",
    "for i in range(0,20,1):\n",
    "    a = v[i]\n",
    "\n",
    "    clf = tree.DecisionTreeClassifier(**a)\n",
    "     \n",
    "    clf.fit(X_train, Y_train)\n",
    "    prediction = clf.predict(X_test)\n",
    "    ## Computing accuracy\n",
    "    from sklearn.metrics import accuracy_score\n",
    "        \n",
    "    score_validation.append(accuracy_score(prediction, Y_test))\n",
    "    \n",
    "    \n",
    "print(models, \"   \", score_validation)"
   ]
  },
  {
   "cell_type": "code",
   "execution_count": null,
   "metadata": {},
   "outputs": [],
   "source": [
    "error_train = []\n",
    "error_validation = []\n",
    "\n",
    "\n",
    "for i in range(0,20,1):\n",
    "    temp = 1 - score_training[i]\n",
    "    error_train.append(temp)\n",
    "    \n",
    "print(error_train)\n",
    "    \n",
    "for i in range(0,20,1):\n",
    "    temp = 1 - score_validation[i]\n",
    "    error_validation.append(temp)\n",
    "    \n",
    "print(error_validation)"
   ]
  },
  {
   "cell_type": "code",
   "execution_count": null,
   "metadata": {},
   "outputs": [],
   "source": [
    "C = [a - b for a, b in zip(error_validation, error_train)]\n",
    "print(C)\n",
    "\n",
    "\n",
    "m = min(i for i in C if i > 0)\n",
    "\n",
    "print(\"Position:\", C.index(m))\n",
    "print(\"Value:\", m)"
   ]
  },
  {
   "cell_type": "code",
   "execution_count": null,
   "metadata": {
    "collapsed": true
   },
   "outputs": [],
   "source": [
    "modelno = [1,2,3,4,5,6,7,8,9,10,11,12,13,14,15,16,17,18,19,20]\n",
    "dat = pd.DataFrame(index=[1,2,3,4,5,6,7,8,9,10,11,12,13,14,15,16,17,18,19,20])\n",
    "dat['model'] = modelno\n",
    "dat['training error'] = error_train \n",
    "dat['validation error'] = error_validation\n",
    "\n",
    "dat.set_index(\"model\",inplace=True)"
   ]
  },
  {
   "cell_type": "code",
   "execution_count": null,
   "metadata": {},
   "outputs": [],
   "source": [
    "dat.plot(title=\"Models Pereformance Graph\")"
   ]
  },
  {
   "cell_type": "markdown",
   "metadata": {},
   "source": [
    "#  The best model which has least difference between training and validation error is model 4"
   ]
  },
  {
   "cell_type": "markdown",
   "metadata": {},
   "source": [
    "# 2. GNB"
   ]
  },
  {
   "cell_type": "code",
   "execution_count": null,
   "metadata": {},
   "outputs": [],
   "source": [
    "\n",
    "models= []\n",
    "score_training= []\n",
    "score_validation= []\n",
    "\n",
    "\n",
    "d={'param1': { \"priors\": [0.2, 0.8] },\n",
    "   'param2': { \"priors\": [0.4, 0.6] },\n",
    "   'param3': { \"priors\": [0.5, 0.5] },\n",
    "   'param4': { \"priors\": [0.6, 0.4] }, \n",
    "   'param5': { \"priors\": [0.8, 0.2] }}\n",
    "\n",
    "\n",
    "print(\"Training accuracy of GaussianNB with different parameters\")\n",
    "for i in range(0,5,1):\n",
    "    a = list(d.values())[i]\n",
    "   \n",
    "    clf = GaussianNB()\n",
    "     \n",
    "    clf.fit(X_train2, Y_train2)\n",
    "    prediction = clf.predict(X_train2)\n",
    "    ## Computing accuracy\n",
    "    from sklearn.metrics import accuracy_score\n",
    "        \n",
    "    models.append(i)\n",
    "    score_training.append(accuracy_score(prediction, Y_train2))\n",
    "    \n",
    "    \n",
    "print(models, \"   \", score_training)\n",
    "\n",
    "\n",
    "print(\"Validation accuracy of GaussianNB with different parameters\")\n",
    "for i in range(0,5,1):\n",
    "    a = list(d.values())[i]\n",
    "\n",
    "    clf = GaussianNB()\n",
    "     \n",
    "    clf.fit(X_train2, Y_train2)\n",
    "    prediction = clf.predict(X_test2)\n",
    "    ## Computing accuracy\n",
    "    from sklearn.metrics import accuracy_score\n",
    "        \n",
    "    score_validation.append(accuracy_score(prediction, Y_test2))\n",
    "    \n",
    "    \n",
    "print(models, \"   \", score_validation)\n",
    "\n",
    "\n",
    "#measure_performance(features_train, labels_train, clf)\n",
    "\n",
    "#matrix = confusion_matrix(labels_test, prediction)\n",
    "#print(matrix)\n",
    "\n",
    "#report = classification_report(labels_test, prediction)\n",
    "#print(report)\n",
    "\n",
    "#rms = mean_squared_error(labels_test, prediction)\n",
    "#print(\"Root mean square error: \",rms)"
   ]
  },
  {
   "cell_type": "code",
   "execution_count": null,
   "metadata": {
    "collapsed": true
   },
   "outputs": [],
   "source": [
    "error_train = []\n",
    "error_validation = []\n",
    "\n",
    "for i in range(0,5,1):\n",
    "    temp = 1 - score_training[i]\n",
    "    error_train.append(temp)\n",
    "\n",
    "\n",
    "for i in range(0,5,1):\n",
    "    temp = 1 - score_validation[i]\n",
    "    error_validation.append(temp)"
   ]
  },
  {
   "cell_type": "code",
   "execution_count": null,
   "metadata": {},
   "outputs": [],
   "source": [
    "dat = pd.DataFrame(index=[1,2,3,4,5])\n",
    "\n",
    "dat['training error'] = error_train \n",
    "dat['validation error'] = error_validation\n",
    "\n",
    "dat.plot(title=\"Models Pereformance Graph\")"
   ]
  },
  {
   "cell_type": "code",
   "execution_count": null,
   "metadata": {},
   "outputs": [],
   "source": [
    "error_train"
   ]
  },
  {
   "cell_type": "code",
   "execution_count": null,
   "metadata": {},
   "outputs": [],
   "source": [
    "error_validation"
   ]
  },
  {
   "cell_type": "code",
   "execution_count": null,
   "metadata": {
    "collapsed": true
   },
   "outputs": [],
   "source": []
  },
  {
   "cell_type": "markdown",
   "metadata": {},
   "source": [
    "## Logistic regression"
   ]
  },
  {
   "cell_type": "code",
   "execution_count": null,
   "metadata": {},
   "outputs": [],
   "source": [
    "\n",
    "clf = linear_model.LogisticRegression(multi_class='multinomial', solver='newton-cg')\n",
    "\n",
    "clf.fit(X_train2, Y_train2)\n",
    "prediction = clf.predict(X_test2)\n",
    "## Computing accuracy\n",
    "from sklearn.metrics import accuracy_score\n",
    "print(accuracy_score(prediction, Y_test2))\n",
    "\n",
    "matrix = confusion_matrix(Y_test2, prediction)\n",
    "print(matrix)\n",
    "\n",
    "rms = mean_squared_error(labels_test, prediction)\n",
    "print(\"Root mean square error: \",rms)\n",
    "\n",
    "report = classification_report(Y_test2, prediction)\n",
    "print(report)"
   ]
  },
  {
   "cell_type": "code",
   "execution_count": null,
   "metadata": {
    "collapsed": true
   },
   "outputs": [],
   "source": []
  },
  {
   "cell_type": "code",
   "execution_count": null,
   "metadata": {
    "collapsed": true
   },
   "outputs": [],
   "source": []
  },
  {
   "cell_type": "code",
   "execution_count": null,
   "metadata": {
    "collapsed": true
   },
   "outputs": [],
   "source": []
  },
  {
   "cell_type": "markdown",
   "metadata": {},
   "source": [
    "# Conclusion:\n"
   ]
  },
  {
   "cell_type": "markdown",
   "metadata": {},
   "source": [
    "# Technique    Preprocessing------------------Post Preprocessing\n",
    "# DTC               12:- 0.878873085680831------ 4:- 0.87927511271583692\n",
    "# GNB               0.878873085680831------------0.878873085680831"
   ]
  },
  {
   "cell_type": "code",
   "execution_count": null,
   "metadata": {
    "collapsed": true
   },
   "outputs": [],
   "source": []
  }
 ],
 "metadata": {
  "anaconda-cloud": {},
  "kernelspec": {
   "display_name": "Python 3",
   "language": "python",
   "name": "python3"
  },
  "language_info": {
   "codemirror_mode": {
    "name": "ipython",
    "version": 3
   },
   "file_extension": ".py",
   "mimetype": "text/x-python",
   "name": "python",
   "nbconvert_exporter": "python",
   "pygments_lexer": "ipython3",
   "version": "3.6.1"
  }
 },
 "nbformat": 4,
 "nbformat_minor": 2
}
